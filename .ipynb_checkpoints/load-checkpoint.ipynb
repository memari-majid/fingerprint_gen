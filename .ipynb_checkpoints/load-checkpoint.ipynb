{
 "cells": [
  {
   "cell_type": "code",
   "execution_count": 3,
   "metadata": {},
   "outputs": [],
   "source": [
    "import glob\n",
    "import cv2\n",
    "import numpy as np\n",
    "import torch\n",
    "from torch.utils.data import Dataset, DataLoader, SubsetRandomSampler"
   ]
  },
  {
   "cell_type": "code",
   "execution_count": 6,
   "metadata": {},
   "outputs": [],
   "source": [
    "# create custom dataset\n",
    "class FingerprintDataset(Dataset):\n",
    "    # initialize the variables\n",
    "    def __init__(self):\n",
    "        # contains the base path to the dataset directory\n",
    "        self.images_path = \"DB1_B/\"\n",
    "        # search for all subdirectories\n",
    "        file_list = glob.glob(self.images_path + \"*\")\n",
    "        print(file_list)\n",
    "        self.data = []\n",
    "        for class_path in file_list:\n",
    "            class_name = class_path.split(\"/\")[-1]\n",
    "            for img_path in glob.glob(class_path + \"/*.tif\"):\n",
    "                self.data.append([img_path, class_name])\n",
    "        print(self.data)\n",
    "        self.class_map = {}\n",
    "        for i in range(1, 11):\n",
    "            self.class_map[f'{i}'] = i\n",
    "        self.img_dim = (300, 300)\n",
    "\n",
    "    def __len__(self):\n",
    "        return len(self.data)\n",
    "\n",
    "    def __getitem__(self, idx):\n",
    "        img_path, class_name = self.data[idx]\n",
    "        img = cv2.imread(img_path)\n",
    "        img = cv2.resize(img, self.img_dim)\n",
    "        class_id = self.class_map[class_name]\n",
    "        # convert variables to the torch tensor format for gradient calculating\n",
    "        img_tensor = torch.from_numpy(img)\n",
    "        # Torch convolutions require images to be in a channel first format\n",
    "        # Channels=2, Width=0, Height=1\n",
    "        img_tensor = img_tensor.permute(2, 0, 1)\n",
    "        # convert the integer value of class_id to a torch tensor\n",
    "        class_id = torch.tensor([class_id])\n",
    "        return img_tensor, class_id\n",
    "\n",
    "    def __len__(self):\n",
    "        return len(self.class_map)"
   ]
  },
  {
   "cell_type": "code",
   "execution_count": 7,
   "metadata": {},
   "outputs": [
    {
     "name": "stdout",
     "output_type": "stream",
     "text": [
      "['DB1_B/1', 'DB1_B/10', 'DB1_B/2', 'DB1_B/3', 'DB1_B/4', 'DB1_B/5', 'DB1_B/6', 'DB1_B/7', 'DB1_B/8', 'DB1_B/9']\n",
      "[['DB1_B/1/101_1.tif', '1'], ['DB1_B/1/101_2.tif', '1'], ['DB1_B/1/101_3.tif', '1'], ['DB1_B/1/101_4.tif', '1'], ['DB1_B/1/101_5.tif', '1'], ['DB1_B/1/101_6.tif', '1'], ['DB1_B/1/101_7.tif', '1'], ['DB1_B/1/101_8.tif', '1'], ['DB1_B/10/110_1.tif', '10'], ['DB1_B/10/110_2.tif', '10'], ['DB1_B/10/110_3.tif', '10'], ['DB1_B/10/110_4.tif', '10'], ['DB1_B/10/110_5.tif', '10'], ['DB1_B/10/110_6.tif', '10'], ['DB1_B/10/110_7.tif', '10'], ['DB1_B/10/110_8.tif', '10'], ['DB1_B/2/102_1.tif', '2'], ['DB1_B/2/102_2.tif', '2'], ['DB1_B/2/102_3.tif', '2'], ['DB1_B/2/102_4.tif', '2'], ['DB1_B/2/102_5.tif', '2'], ['DB1_B/2/102_6.tif', '2'], ['DB1_B/2/102_7.tif', '2'], ['DB1_B/2/102_8.tif', '2'], ['DB1_B/3/103_1.tif', '3'], ['DB1_B/3/103_2.tif', '3'], ['DB1_B/3/103_3.tif', '3'], ['DB1_B/3/103_4.tif', '3'], ['DB1_B/3/103_5.tif', '3'], ['DB1_B/3/103_6.tif', '3'], ['DB1_B/3/103_7.tif', '3'], ['DB1_B/3/103_8.tif', '3'], ['DB1_B/4/104_1.tif', '4'], ['DB1_B/4/104_2.tif', '4'], ['DB1_B/4/104_3.tif', '4'], ['DB1_B/4/104_4.tif', '4'], ['DB1_B/4/104_5.tif', '4'], ['DB1_B/4/104_6.tif', '4'], ['DB1_B/4/104_7.tif', '4'], ['DB1_B/4/104_8.tif', '4'], ['DB1_B/5/105_1.tif', '5'], ['DB1_B/5/105_2.tif', '5'], ['DB1_B/5/105_3.tif', '5'], ['DB1_B/5/105_4.tif', '5'], ['DB1_B/5/105_5.tif', '5'], ['DB1_B/5/105_6.tif', '5'], ['DB1_B/5/105_7.tif', '5'], ['DB1_B/5/105_8.tif', '5'], ['DB1_B/6/106_1.tif', '6'], ['DB1_B/6/106_2.tif', '6'], ['DB1_B/6/106_3.tif', '6'], ['DB1_B/6/106_4.tif', '6'], ['DB1_B/6/106_5.tif', '6'], ['DB1_B/6/106_6.tif', '6'], ['DB1_B/6/106_7.tif', '6'], ['DB1_B/6/106_8.tif', '6'], ['DB1_B/7/107_1.tif', '7'], ['DB1_B/7/107_2.tif', '7'], ['DB1_B/7/107_3.tif', '7'], ['DB1_B/7/107_4.tif', '7'], ['DB1_B/7/107_5.tif', '7'], ['DB1_B/7/107_6.tif', '7'], ['DB1_B/7/107_7.tif', '7'], ['DB1_B/7/107_8.tif', '7'], ['DB1_B/8/108_1.tif', '8'], ['DB1_B/8/108_2.tif', '8'], ['DB1_B/8/108_3.tif', '8'], ['DB1_B/8/108_4.tif', '8'], ['DB1_B/8/108_5.tif', '8'], ['DB1_B/8/108_6.tif', '8'], ['DB1_B/8/108_7.tif', '8'], ['DB1_B/8/108_8.tif', '8'], ['DB1_B/9/109_1.tif', '9'], ['DB1_B/9/109_2.tif', '9'], ['DB1_B/9/109_3.tif', '9'], ['DB1_B/9/109_4.tif', '9'], ['DB1_B/9/109_5.tif', '9'], ['DB1_B/9/109_6.tif', '9'], ['DB1_B/9/109_7.tif', '9'], ['DB1_B/9/109_8.tif', '9']]\n"
     ]
    }
   ],
   "source": [
    "dataset = FingerprintDataset()\n",
    "data_loader = DataLoader(dataset, batch_size=4, shuffle=True)"
   ]
  },
  {
   "cell_type": "code",
   "execution_count": 8,
   "metadata": {},
   "outputs": [
    {
     "name": "stdout",
     "output_type": "stream",
     "text": [
      "Batch of images has shape:  torch.Size([4, 3, 300, 300])\n",
      "Batch of labels has shape:  torch.Size([4, 1])\n",
      "Batch of images has shape:  torch.Size([4, 3, 300, 300])\n",
      "Batch of labels has shape:  torch.Size([4, 1])\n",
      "Batch of images has shape:  torch.Size([2, 3, 300, 300])\n",
      "Batch of labels has shape:  torch.Size([2, 1])\n"
     ]
    }
   ],
   "source": [
    "for images, labels in data_loader:\n",
    "    print(\"Batch of images has shape: \", images.shape)\n",
    "    print(\"Batch of labels has shape: \", labels.shape)"
   ]
  },
  {
   "cell_type": "code",
   "execution_count": null,
   "metadata": {},
   "outputs": [],
   "source": []
  }
 ],
 "metadata": {
  "kernelspec": {
   "display_name": "Python 3 (ipykernel)",
   "language": "python",
   "name": "python3"
  },
  "language_info": {
   "codemirror_mode": {
    "name": "ipython",
    "version": 3
   },
   "file_extension": ".py",
   "mimetype": "text/x-python",
   "name": "python",
   "nbconvert_exporter": "python",
   "pygments_lexer": "ipython3",
   "version": "3.9.15"
  }
 },
 "nbformat": 4,
 "nbformat_minor": 1
}
